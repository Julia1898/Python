{
 "cells": [
  {
   "cell_type": "code",
   "execution_count": 1,
   "metadata": {},
   "outputs": [],
   "source": [
    "import pandas as pd\n",
    "import urllib.request"
   ]
  },
  {
   "cell_type": "code",
   "execution_count": 2,
   "metadata": {},
   "outputs": [],
   "source": [
    "def url_to_jpg(i, url, file_path):\n",
    "\n",
    "  filename = url.split(\"/\")[-1].split(\"?\")[0] \n",
    "  full_path = '{}{}'.format(file_path, filename)\n",
    "  urllib.request.urlretrieve(url, full_path)\n",
    "\n",
    "  print('{} saved.'.format(filename))\n",
    "\n",
    "  return None\n"
   ]
  },
  {
   "cell_type": "code",
   "execution_count": 3,
   "metadata": {},
   "outputs": [
    {
     "name": "stdout",
     "output_type": "stream",
     "text": [
      "19WBBM00336A-005-Me-Batman-54-132_11cf50cc-b65d-447e-80d7-1470d1890fe8_400x.jpg saved.\n",
      "19WBBM00237A-003-Harley-Costume-54_c83b4fb9-3b5b-4dda-8379-482f748352b7_400x.jpg saved.\n",
      "19WBBM00326A-015-Bat-Garage-54-148_400x.jpg saved.\n",
      "19WBBM00269A-013-Be-Good-54-148_400x.jpg saved.\n",
      "19WBBM00400A-035-Joking-Quinn-141-148_6_400x.jpg saved.\n",
      "19WBBM00323A-011-Little-Yellow-54-148_8f315b59-f26a-4ea3-bd57-489d84f488ff_400x.jpg saved.\n",
      "19WBBM00323A-008-Little-Yellow-54-148_400x.jpg saved.\n",
      "19WBBM00190A-009-3D-Batman-141-148_5a9fc93d-b457-46bb-b650-3058a752c0c4_400x.jpg saved.\n",
      "19WBBM00269A-014-Be-Good-54-148_400x.jpg saved.\n",
      "19WBBM00390A-001-Glad-I-Did-It-82_400x.jpg saved.\n",
      "19WBBM00172A-012-NightWing-141-148_6_400x.jpg saved.\n",
      "19WBBM00400A-026-Joking-Quinn-141-148_6_400x.jpg saved.\n",
      "19WBBM00323A-001-Little-Yellow-54_400x.jpg saved.\n",
      "19WBBM00316A-025-Joker-Card-54-148_400x.jpg saved.\n",
      "19WBBM00269A-022-Be-Good-54-148_400x.jpg saved.\n",
      "19WBBM00299A-018-Bat-Logo-Ten-140-148_6_400x.jpg saved.\n",
      "19WBBM00299A-010-Bat-Logo-Ten-140-148_6_400x.jpg saved.\n",
      "19WBBM00317A-017-Joker-Emblem-54-148_400x.jpg saved.\n",
      "19WBBM00358A-014-Kill-Shot-54-148_400x.jpg saved.\n"
     ]
    }
   ],
   "source": [
    "FILENAME = 'image.csv'\n",
    "FILE_PATH = 'images/'\n",
    "\n",
    "urls = pd.read_csv(FILENAME)\n",
    "# Save images to the directory by iterating through the list \n",
    "for i, url in enumerate(urls.values):\n",
    "  url_to_jpg(i, url[0], FILE_PATH)"
   ]
  },
  {
   "cell_type": "code",
   "execution_count": null,
   "metadata": {},
   "outputs": [],
   "source": []
  },
  {
   "cell_type": "code",
   "execution_count": null,
   "metadata": {},
   "outputs": [],
   "source": []
  },
  {
   "cell_type": "code",
   "execution_count": null,
   "metadata": {},
   "outputs": [],
   "source": []
  },
  {
   "cell_type": "code",
   "execution_count": null,
   "metadata": {},
   "outputs": [],
   "source": []
  },
  {
   "cell_type": "code",
   "execution_count": null,
   "metadata": {},
   "outputs": [],
   "source": []
  }
 ],
 "metadata": {
  "kernelspec": {
   "display_name": "Python 3",
   "language": "python",
   "name": "python3"
  },
  "language_info": {
   "codemirror_mode": {
    "name": "ipython",
    "version": 3
   },
   "file_extension": ".py",
   "mimetype": "text/x-python",
   "name": "python",
   "nbconvert_exporter": "python",
   "pygments_lexer": "ipython3",
   "version": "3.7.6"
  }
 },
 "nbformat": 4,
 "nbformat_minor": 4
}
